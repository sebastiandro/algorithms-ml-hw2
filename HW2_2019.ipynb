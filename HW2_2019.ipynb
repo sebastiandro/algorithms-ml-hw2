{
 "cells": [
  {
   "cell_type": "markdown",
   "metadata": {
    "colab_type": "text",
    "id": "xlDcjE-FZc_o"
   },
   "source": [
    "# [Linear Regression with regularization 11pt]\n",
    "\n",
    "1-  **1pt** Write down $\\mathcal{L}(\\mathbf{w})$ in matrix/vector forms using only $\\mathbf{X}$, $\\mathbf{y}$ and $\\mathbf{w}$ and the L2 norm. In other words, you are not allowed to use any components $y_i, \\mathbf{w}_j$ or $\\mathbf{x}_i$ ( For any vector $\\mathbf{z}$ use the following notation $|\\mathbf{z}|_2$ to mean the L2 norm of  $\\mathbf{z}$ See http://mathworld.wolfram.com/L2-Norm.html for more information about the L2 norm.)\n",
    "\n",
    "$L(\\mathbf{w}) = (\\mathbf{Y}-\\mathbf{Xw})^T(\\mathbf{Y}-\\mathbf{Xw}) - \\alpha|\\mathbf{w}|^2_{2} = $\n",
    "\n",
    "2- **1pt** Derive and write down in matrix/vector forms the gradient of $\\mathcal{L}(\\mathbf{w})$ with respect to $\\mathbf{w}$. Show all the derivations. (Hint: You can start by  computing the gradient of the full expression and then convert it to matrix/vector forms. You can also directly get the gradients from your answer in 1-)\n",
    "\n",
    "$\\frac{\\partial L(\\mathbf{w})}{\\partial \\mathbf{w}} = \\frac{\\partial}{\\partial \\mathbf{w}}[(\\mathbf{Y}-\\mathbf{Xw})^T(\\mathbf{Y}-\\mathbf{Xw})] - \\frac{\\partial}{\\partial \\mathbf{w}}(\\alpha|\\mathbf{w}|^2_2)$\n",
    "\n",
    "$ = -2\\mathbf{X}^T(\\mathbf{Y - Xw}) + 2\\alpha \\mathbf{w}$\n",
    "\n",
    "3- **2pt** Derive and write down in matrix/vector forms the solution $\\mathbf{w}^*$ to the optimization problem $\\min_{\\mathbf{w}}  \\mathcal{L}(\\mathbf{w})$. Show all your derivations. (Hint: $\\mathcal{L}(\\mathbf{w})$ is convex in $\\mathbf{w}$)\n",
    "\n",
    "$\\frac{\\partial L(\\mathbf{w})}{\\partial \\mathbf{w}} = 0$\n",
    "\n",
    "$\\Rightarrow -2\\mathbf{X}^T(\\mathbf{Y - Xw}) + 2\\alpha\\mathbf{w} = 0$\n",
    "\n",
    "$\\Rightarrow -\\mathbf{X}^T(\\mathbf{Y - Xw}) + \\alpha\\mathbf{w} = 0$\n",
    "\n",
    "$\\Rightarrow -\\mathbf{X}^T\\mathbf{Y} + \\mathbf{X}^T\\mathbf{Xw} + \\alpha\\mathbf{w} = 0$\n",
    "\n",
    "$\\Rightarrow \\mathbf{X}^T\\mathbf{Y} = (\\mathbf{X}^T\\mathbf{X} + \\alpha\\mathbf{I})\\mathbf{w}$\n",
    "\n",
    "$\\Rightarrow \\mathbf{w^*} = (\\mathbf{X}^T\\mathbf{X} + \\alpha\\mathbf{I})^{-1}\\mathbf{X}^T\\mathbf{Y}$\n",
    "\n",
    "4-  **2pt** Under which condition on the $\\alpha$ is the solution $\\mathbf{w}^*$ unique? Prove rigorously your statement. Make no assumptions on $\\mathbf{X}$. (Hint: If your solution $\\mathbf{w}^*$ requires to invert a matrix, then one necessary condition for uniquess is for the matrix to be invertible. And any positive definitive matrix https://en.wikipedia.org/wiki/Definiteness_of_a_matrix is invertible. You might also want to look at the properties of transposition https://en.wikipedia.org/wiki/Transpose)\n",
    "\n",
    "We set $\\mathbf{M} = \\mathbf{X}^T\\mathbf{X} + \\alpha\\mathbf{I}$ and get\n",
    "\n",
    "$ \\mathbf{w^*} = \\mathbf{M}^{-1}\\mathbf{X}^T\\mathbf{Y} $\n",
    "\n",
    "To prove uniqueness of $\\mathbf{w^*}$ we want to show that $\\mathbf{M}$ is positive definite, hence it is also invertible, which is the necessary condition for uniqueness of $\\mathbf{w^*}$.\n",
    "\n",
    "To show that $\\mathbf{M}$ is positive definite\n",
    "\n",
    "$ \\mathbf{z}^T\\mathbf{Mz} > 0 $ for some non-zero column vector $\\mathbf{z}$\n",
    "\n",
    "We have that\n",
    "\n",
    "$ \\mathbf{z}^T\\mathbf{Mz} = \\mathbf{z}^T(\\mathbf{X}^T\\mathbf{X} + \\alpha\\mathbf{I})\\mathbf{z} = $\n",
    "\n",
    "$ = \\mathbf{z}^T\\mathbf{X}^T\\mathbf{Xz} + \\alpha\\mathbf{z}^T\\mathbf{z} = $\n",
    "\n",
    "$ = (\\mathbf{Xz})^T\\mathbf{Xz} + \\alpha\\mathbf{z}^T\\mathbf{z} = $\n",
    "$ = |\\mathbf{Xz}|^2_2 + \\alpha $\n",
    "\n",
    "5- **2pt** Implement in Python a well commented function **fit_linear_with_regularization** that takes as input $\\mathbf{X}$, $\\mathbf{y}$ and $\\alpha$ and return $\\mathbf{w}^*$ as computed in question 3. You are not allowed to use any loops (for-loop, while-loop ...) to do the implementation. Instead use and abuse as much as possible numpy vectorization techniques. A skeleton of the function is shown in the code cell below.\n",
    "\n",
    "6- **3pt** Implement in Python a well commented function **predict** that takes as input a dataset $\\mathbf{X_{\\text{test}}}$ in the same dimensions as $\\mathbf{X}$ and return the predictions.   Write down the mean squared error (https://en.wikipedia.org/wiki/Mean_squared_error) of your predictions. Then on the same plot with legends, show:\n",
    "\n",
    " a) A scatter plot of the first feature of $\\mathbf{X_{\\text{test}}}$ (x-axis) and the diabetes progression $\\mathbf{y_{\\text{test}}}$ \n",
    " \n",
    " b) A plot of your prediction for $\\mathbf{X_{\\text{test}}}$\n",
    " \n",
    " The skeleton code in the cell below already implements most of data loading and you should only have to fill in the *TODO* part. Again here no loops are allowed (for-loop, while loop in the implementation of the plots and the **predict** )\n",
    " \n",
    " **Bonus question**\n",
    " \n",
    "In the code from the cell below, we use alpha = 0.01. If you want, you could check if you can improve the mean squared error by using a different value of strictly positive alpha  and/or by normalizing the input features $\\mathbf{X}$. \n",
    "\n",
    "Finding this improvement, will not give you any additional points. Not finding an improvement  will not prevent you from getting full points (if all questions with points are answered correctly). However, if you find an improvement, we will pick exactly one question where you didn't receive full points in this assignment and give you full points there. In particular,  between the questions for which you have reasonably attempted a solution, we will pick the one where the difference between the full point and the point you received is the maximum."
   ]
  },
  {
   "cell_type": "markdown",
   "metadata": {
    "colab_type": "text",
    "id": "vdmPgTGVzSmx"
   },
   "source": [
    "# Bayesian Linear Regression   4pt\n",
    "\n",
    "Proud of finishing the task using a linear model with regularization, you show your results to a representative of the Swedish Public Health Agency. You barely finish explaining your solution when the face of the representative turns red and you could distinctly hear: \"Bayesian is the only way: How come didn't you use any probabilities?\". \n",
    "\n",
    "You quickly head back to your desk and now assume a Gaussian prior on the solution $\\mathbf{w}$, that is $p(\\mathbf{w}) = \\mathcal{N}(\\mathbf{0}, \\lambda^{-1} \\mathbf{I})$ where $\\lambda \\in \\mathbb{R}$ is a constant real number, $I$ is the $p \\times p$ identity matrix and $\\mathcal{N}(\\mathbf{0}, \\lambda^{-1} \\mathbf{I})$ is used to mean the multivariate gaussian distribution with mean $\\mathbf{0} \\in \\mathbb{R}^p$ , a vector of zeros of dimension $p$ and covariance matrix $\\lambda^{-1} \\mathbf{I}$ . Then, you use the following likelihood:\n",
    "\n",
    "$p(\\mathbf{y} | \\mathbf{X}, \\mathbf{w}) = \\prod_{i=1}^n \\mathcal{N}(\\mathbf{w}^T \\mathbf{x}_i, \\gamma^{-1})$ where here $\\gamma \\in \\mathbb{R}$ is a constant real number and $\\mathcal{N}(\\mathbf{w}^T \\mathbf{x}_i, \\gamma^{-1})$ is the gaussian distribution with mean  $\\mathbf{w}^T \\mathbf{x}_i$ and variance $\\gamma^{-1}$.\n",
    "\n",
    "\n",
    "7- **2pt** Derive and express in vector/matrix form as a function of $\\mathbf{X}, \\mathbf{y}, \\mathbf{w}$ the log posterior $\\ln p(\\mathbf{w} | \\mathbf{y}, \\mathbf{X})$. Show all the derivations. You can ignore normalizing constants.\n",
    " \n",
    "\n",
    "\n",
    "8-  **2pt** Show that maximizing the posterior in 7- is  similar to minimizing the function $\\mathcal{L}(\\mathbf{w})$ seen in the previous section. Show your derivations. (Note: You should show this without computing the maximum of the posterior. Instead, you should express the log posterior in term of $\\mathcal{L}(\\mathbf{w})$, ignoring constants if necessary. Then find the $\\alpha$ of $\\mathcal{L}(\\mathbf{w})$ in term of $\\lambda$ and $\\gamma$).\n",
    "\n"
   ]
  }
 ],
 "metadata": {
  "colab": {
   "name": "HW2_2019.ipynb",
   "provenance": [],
   "version": "0.3.2"
  },
  "kernelspec": {
   "display_name": "Python 3",
   "language": "python",
   "name": "python3"
  },
  "language_info": {
   "codemirror_mode": {
    "name": "ipython",
    "version": 3
   },
   "file_extension": ".py",
   "mimetype": "text/x-python",
   "name": "python",
   "nbconvert_exporter": "python",
   "pygments_lexer": "ipython3",
   "version": "3.6.4"
  }
 },
 "nbformat": 4,
 "nbformat_minor": 1
}
